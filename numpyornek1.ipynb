{
 "cells": [
  {
   "cell_type": "markdown",
   "id": "067a3f39-8d0b-4913-aced-4e8eae5690d9",
   "metadata": {},
   "source": [
    "**numpy dizi islemleri**"
   ]
  },
  {
   "cell_type": "code",
   "execution_count": 8,
   "id": "781ac44f-5807-4890-80a6-84295cfff804",
   "metadata": {},
   "outputs": [],
   "source": [
    "import numpy as np #numpy kutuphanesini np takma adi ile projeye dahil ediyoruz"
   ]
  },
  {
   "cell_type": "code",
   "execution_count": 10,
   "id": "a9e4dcdf-3d01-44cc-a1d2-c2194c06c208",
   "metadata": {},
   "outputs": [
    {
     "data": {
      "text/plain": [
       "array([[5, 5, 5],\n",
       "       [5, 5, 5],\n",
       "       [5, 5, 5],\n",
       "       [5, 5, 5]])"
      ]
     },
     "execution_count": 10,
     "metadata": {},
     "output_type": "execute_result"
    }
   ],
   "source": [
    "dizi=np.full((4,3),5) #4satır 3 sutunluk 5ten oluşan dizi\n",
    "dizi"
   ]
  },
  {
   "cell_type": "code",
   "execution_count": 11,
   "id": "d342fa46-ee68-43db-9b99-40f9a69e9775",
   "metadata": {},
   "outputs": [
    {
     "data": {
      "text/plain": [
       "array([1, 2, 3])"
      ]
     },
     "execution_count": 11,
     "metadata": {},
     "output_type": "execute_result"
    }
   ],
   "source": [
    "#yeni bir numpy dizisi olusturuyoruz\n",
    "np.array([1,2,3])"
   ]
  },
  {
   "cell_type": "code",
   "execution_count": 12,
   "id": "cdbdcf50-67cd-483c-8311-15f60130d191",
   "metadata": {},
   "outputs": [],
   "source": [
    "#oLlusturdugumuz diziyi bir degiskene aktarvryoruz\n",
    "dizi=np.array([\"elma\", \"erik\", \"igde\"])"
   ]
  },
  {
   "cell_type": "code",
   "execution_count": null,
   "id": "8e06d801-17c8-4e3c-919d-a1d5e9d94c1c",
   "metadata": {},
   "outputs": [],
   "source": [
    "dizi"
   ]
  },
  {
   "cell_type": "code",
   "execution_count": null,
   "id": "fa1b129b-8036-44b0-8ca8-ffd0a0d3afca",
   "metadata": {},
   "outputs": [],
   "source": [
    "dizi=np.array([1,2,3])"
   ]
  },
  {
   "cell_type": "code",
   "execution_count": null,
   "id": "7ab2c4c3-ebc0-4ebd-be06-395a993a4f36",
   "metadata": {},
   "outputs": [],
   "source": [
    "dizi=np.array([1,2,3.14])"
   ]
  },
  {
   "cell_type": "code",
   "execution_count": null,
   "id": "71c24ad1-fece-434d-a697-a454175c9723",
   "metadata": {},
   "outputs": [],
   "source": [
    "dizi.dtype #dizinin degisken turunu verir. numpy dizilerinde elemanLlarin hepst aynri turdendir"
   ]
  },
  {
   "cell_type": "code",
   "execution_count": null,
   "id": "156ec31b-3e57-4e56-9ce9-deee9c6ec9d9",
   "metadata": {},
   "outputs": [],
   "source": [
    "dizi=np.array([1,2,3.14], dtype=int)"
   ]
  },
  {
   "cell_type": "markdown",
   "id": "d4dd24e8-e60d-4f2e-ade7-cc9b7d6d9228",
   "metadata": {},
   "source": [
    "**numpy ile farkli boyutlarda dizi olusturma**"
   ]
  },
  {
   "cell_type": "code",
   "execution_count": null,
   "id": "dc63d506-9f2f-4464-bf0f-5b00f6f2d6ef",
   "metadata": {},
   "outputs": [],
   "source": [
    "#bir boyutlu dizi olusturma\n",
    "birboyut=np.array([1,2,3,4])\n",
    "#ikt boyutlu dizi olusturma\n",
    "ikiboyut=np.array([[1,2,3,4],[5,6,7,8],[9,10,11,12]])"
   ]
  },
  {
   "cell_type": "code",
   "execution_count": null,
   "id": "ec7075ab-4c01-48fc-9153-35c9dd8159d6",
   "metadata": {},
   "outputs": [],
   "source": [
    "#bir boyutlu dizi olusturma\n",
    "birboyut=np.array([1,2,3,4])"
   ]
  },
  {
   "cell_type": "code",
   "execution_count": null,
   "id": "add94cd6-7a75-40c7-bdea-067081b08fed",
   "metadata": {},
   "outputs": [],
   "source": [
    "#ikt boyutlu dizi olusturma\n",
    "ikiboyut=np.array([[1,2,3,4],[5,6,7,8],[9,10,11,12]])"
   ]
  },
  {
   "cell_type": "markdown",
   "id": "d690cb8d-135d-42c8-8d47-9d1803fa7c57",
   "metadata": {},
   "source": [
    "**numpy yer tutucular**"
   ]
  },
  {
   "cell_type": "code",
   "execution_count": null,
   "id": "565cbeaf-1188-43de-8964-b261357e7952",
   "metadata": {},
   "outputs": [],
   "source": [
    "np.zeros(7) #7 s1iftrdan olusan tek boyutLlu dizi olusturur"
   ]
  },
  {
   "cell_type": "code",
   "execution_count": null,
   "id": "5ea619bd-4f13-40c7-80a7-cc1accebe82c",
   "metadata": {},
   "outputs": [],
   "source": [
    "np.zeros((2,3),dtype=int)#* svtftrdan olusan 2 boyutlu int dizi olusturur"
   ]
  },
  {
   "cell_type": "code",
   "execution_count": null,
   "id": "4e061253-7ec9-4176-bbc5-21c426bef4ba",
   "metadata": {},
   "outputs": [],
   "source": [
    "np.ones(3)"
   ]
  },
  {
   "cell_type": "code",
   "execution_count": null,
   "id": "1d5cb13e-1389-4c11-8072-6e11b987cc64",
   "metadata": {},
   "outputs": [],
   "source": [
    "np.full((4,3),5)#5 sayisindan olusan 2*3 Luk dizi"
   ]
  },
  {
   "cell_type": "code",
   "execution_count": null,
   "id": "997aa158-4d89-4d1f-8222-c5eccd6b6dff",
   "metadata": {},
   "outputs": [],
   "source": [
    "np.arange(2,22,5)#baslangic,bitis ve artis degerine gore dizi olusturma"
   ]
  },
  {
   "cell_type": "code",
   "execution_count": null,
   "id": "7fd6b99a-4aa2-41ed-b5ef-a1456f23bfac",
   "metadata": {},
   "outputs": [],
   "source": [
    "np.linspace(2,10,num=7) #baslangic¢c ve bitis degeri araliginda belirtilen miktarda esit aralik"
   ]
  },
  {
   "cell_type": "code",
   "execution_count": null,
   "id": "755763a5-2bdc-420e-9512-00c419f6a185",
   "metadata": {},
   "outputs": [],
   "source": [
    "np.random.randint(0,10,5)#@-1@ aral1ginda rastgele 5 sayidan olusan bir boyutlu dizi"
   ]
  },
  {
   "cell_type": "code",
   "execution_count": null,
   "id": "d634bb5d-e82b-425d-8b40-a1194c789ea4",
   "metadata": {},
   "outputs": [],
   "source": [
    "np.random.randint(0,10,(5,2))#@-1@ araliginda 5*2 rastgele sayizdan olusan 2 boyutlu dizi"
   ]
  },
  {
   "cell_type": "markdown",
   "id": "bafed8c6-9466-423e-989e-2667ee77657f",
   "metadata": {},
   "source": [
    "**diziler ile ilgili islemler**"
   ]
  },
  {
   "cell_type": "code",
   "execution_count": null,
   "id": "7ece44b2-38bb-45e2-875a-9e8b62d9c976",
   "metadata": {},
   "outputs": [],
   "source": [
    "#dizilerin eleman sayisinr Ogrenmek t¢in shape komutu kuLllanilir\n",
    "dizi=np.array([[1,2,3,4],[5,6,7,8],[9,10,11,12]])\n",
    "dizi.shape"
   ]
  },
  {
   "cell_type": "code",
   "execution_count": null,
   "id": "ce9aa636-4499-4249-848d-45867c5318c3",
   "metadata": {},
   "outputs": [],
   "source": [
    "#ndim dizi boyutunu ogrenmek i¢in kullanilir\n",
    "dizi.ndim"
   ]
  },
  {
   "cell_type": "code",
   "execution_count": null,
   "id": "6faad4a4-36da-4221-97c3-d645c1a59a15",
   "metadata": {},
   "outputs": [],
   "source": [
    "#s1ze dizidekt toplLam eleman sayirsini gosterir\n",
    "dizi.size"
   ]
  },
  {
   "cell_type": "code",
   "execution_count": null,
   "id": "2c6cb039-8542-4334-b46c-6c6f7a53d721",
   "metadata": {},
   "outputs": [],
   "source": [
    "dizi.itemsize #dizidekit her bir elemanin bayt cinsinden degerini verir"
   ]
  },
  {
   "cell_type": "code",
   "execution_count": null,
   "id": "2469d88b-ce75-4739-8fe4-6e9784c88676",
   "metadata": {},
   "outputs": [],
   "source": []
  },
  {
   "cell_type": "code",
   "execution_count": 13,
   "id": "6ae34e1d-b4d3-4ff3-99fb-ad2676fda31f",
   "metadata": {},
   "outputs": [
    {
     "data": {
      "text/plain": [
       "array([[24, 13,  7, 28, 17, 24,  8],\n",
       "       [29,  5, 19, 10, 22, 21, 20],\n",
       "       [17,  0, 15, 12,  9, 28, 15],\n",
       "       [ 2, 12,  2,  5, 21, 24, 26],\n",
       "       [26, 15, 25, 14,  5, 11,  4]])"
      ]
     },
     "execution_count": 13,
     "metadata": {},
     "output_type": "execute_result"
    }
   ],
   "source": [
    "dizi=np.random.randint(0,30, size=(5,7),dtype=int)\n",
    "dizi"
   ]
  },
  {
   "cell_type": "code",
   "execution_count": null,
   "id": "03d9894d-e963-42e9-a5c9-5302218f662a",
   "metadata": {},
   "outputs": [],
   "source": []
  }
 ],
 "metadata": {
  "kernelspec": {
   "display_name": "Python 3 (ipykernel)",
   "language": "python",
   "name": "python3"
  },
  "language_info": {
   "codemirror_mode": {
    "name": "ipython",
    "version": 3
   },
   "file_extension": ".py",
   "mimetype": "text/x-python",
   "name": "python",
   "nbconvert_exporter": "python",
   "pygments_lexer": "ipython3",
   "version": "3.11.7"
  }
 },
 "nbformat": 4,
 "nbformat_minor": 5
}
